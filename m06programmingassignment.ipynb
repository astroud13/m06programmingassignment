{
 "cells": [
  {
   "cell_type": "code",
   "execution_count": 1,
   "id": "0a3baf0c-a5bc-4ac0-bc0e-f26475b30dd8",
   "metadata": {},
   "outputs": [
    {
     "name": "stdout",
     "output_type": "stream",
     "text": [
      "Today's date (parsed from file): 2024-04-25 00:00:00\n"
     ]
    }
   ],
   "source": [
    "#Module 6 Programming Assignment\n",
    "#By: Austin Stroud\n",
    "#File name: m06programmingassignment.ipynb\n",
    "#Description: Things to do from chapters 13 and 15\n",
    "\n",
    "#A necessary import before we can begin\n",
    "import datetime\n",
    "\n",
    "#13.1 \n",
    "with open('today.txt', 'w') as file:\n",
    "    #Get current date and format as string in 'YYYY-MM-DD' format\n",
    "    today_date = datetime.datetime.now().strftime('%Y-%m-%d')\n",
    "    #Write formatted date string to the file\n",
    "    file.write(today_date)\n",
    "\n",
    "#13.2\n",
    "with open('today.txt', 'r') as file:\n",
    "    #Read contents of file into string variable today_string\n",
    "    today_string = file.read()\n",
    "\n",
    "#13.3 \n",
    "#Parse date string from today_string into datetime object\n",
    "parsed_date = datetime.datetime.strptime(today_string, '%Y-%m-%d')\n",
    "\n",
    "#Print parsed date\n",
    "print(\"Today's date (parsed from file):\", parsed_date)\n",
    "\n",
    "#15.1 \n",
    "#Import necessary modules \n",
    "import multiprocessing\n",
    "import random\n",
    "import time\n",
    "import datetime\n",
    "\n",
    "#Function to print current time after random delay\n",
    "def print_current_time():\n",
    "    #Generate random delay between 0 and 1 sec\n",
    "    delay = random.random()\n",
    "    time.sleep(delay)\n",
    "    #Print current time\n",
    "    print(\"Process ID:\", multiprocessing.current_process().pid, \"- Current Time:\", datetime.datetime.now())\n",
    "\n",
    "if __name__ == \"__main__\":\n",
    "    #Create 3 separate processes\n",
    "    processes = []\n",
    "    for _ in range(3):\n",
    "        process = multiprocessing.Process(target=print_current_time)\n",
    "        processes.append(process)\n",
    "        process.start()\n",
    "\n",
    "    #Wait for processes to finish\n",
    "    for process in processes:\n",
    "        process.join()\n"
   ]
  }
 ],
 "metadata": {
  "kernelspec": {
   "display_name": "Python 3 (ipykernel)",
   "language": "python",
   "name": "python3"
  },
  "language_info": {
   "codemirror_mode": {
    "name": "ipython",
    "version": 3
   },
   "file_extension": ".py",
   "mimetype": "text/x-python",
   "name": "python",
   "nbconvert_exporter": "python",
   "pygments_lexer": "ipython3",
   "version": "3.11.7"
  }
 },
 "nbformat": 4,
 "nbformat_minor": 5
}
